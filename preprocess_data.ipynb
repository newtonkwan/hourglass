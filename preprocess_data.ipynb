{
 "cells": [
  {
   "cell_type": "markdown",
   "metadata": {},
   "source": [
    "# Toggl Duke "
   ]
  },
  {
   "cell_type": "markdown",
   "metadata": {},
   "source": [
    "<b> Every minute counts "
   ]
  },
  {
   "cell_type": "markdown",
   "metadata": {},
   "source": [
    "When I was an undergrad at Duke University, I often found myself thinking about how quickly time seemed to pass. So being the Cameron Crazy that we are all are, I decided to track every minute of every day of my Fall 2019 semester to evaluate a no-nonsense picture of how I spent my time. And I mean everything. Logs ranged from typical student life like 'CS371 lecture' and 'sbsb rehearsal' to everyday life like \"showering\" and \"sleeping\". "
   ]
  },
  {
   "cell_type": "code",
   "execution_count": null,
   "metadata": {},
   "outputs": [],
   "source": []
  }
 ],
 "metadata": {
  "kernelspec": {
   "display_name": "Python 3",
   "language": "python",
   "name": "python3"
  },
  "language_info": {
   "codemirror_mode": {
    "name": "ipython",
    "version": 3
   },
   "file_extension": ".py",
   "mimetype": "text/x-python",
   "name": "python",
   "nbconvert_exporter": "python",
   "pygments_lexer": "ipython3",
   "version": "3.6.7"
  }
 },
 "nbformat": 4,
 "nbformat_minor": 2
}
